{
  "nbformat": 4,
  "nbformat_minor": 0,
  "metadata": {
    "colab": {
      "name": "intro.ipynb",
      "provenance": [],
      "collapsed_sections": [],
      "authorship_tag": "ABX9TyNx/2NHMc9h4QqFiYfbrwpu",
      "include_colab_link": true
    },
    "kernelspec": {
      "name": "python3",
      "display_name": "Python 3"
    },
    "language_info": {
      "name": "python"
    }
  },
  "cells": [
    {
      "cell_type": "markdown",
      "metadata": {
        "id": "view-in-github",
        "colab_type": "text"
      },
      "source": [
        "<a href=\"https://colab.research.google.com/github/sowmyarajesh/ML_TensorFlow/blob/main/intro.ipynb\" target=\"_parent\"><img src=\"https://colab.research.google.com/assets/colab-badge.svg\" alt=\"Open In Colab\"/></a>"
      ]
    },
    {
      "cell_type": "code",
      "execution_count": 18,
      "metadata": {
        "id": "L6DoXxwxOX2Z"
      },
      "outputs": [],
      "source": [
        "import tensorflow as tf\n",
        "import numpy as np"
      ]
    },
    {
      "cell_type": "markdown",
      "source": [
        "### Ranks\n"
      ],
      "metadata": {
        "id": "Wp5oZpBqPKyZ"
      }
    },
    {
      "cell_type": "code",
      "source": [
        "# Rank 0 = Scalars => simple variables\n",
        "person = tf.Variable(\"nameofP\",tf.string)\n",
        "score =tf.Variable(20, tf.int16)\n",
        "float_score =tf.Variable(12.4,tf.float64)\n",
        "complex_num = tf.Variable(2.1+3j, tf.complex64)\n"
      ],
      "metadata": {
        "id": "OkfWDLUsOcBZ"
      },
      "execution_count": 3,
      "outputs": []
    },
    {
      "cell_type": "code",
      "source": [
        "# Rank 1 => vectors\n",
        "scores = tf.Variable([2,3,5,1],tf.int16)\n",
        "floatRank = tf.Variable([2.4,1.45,8.9,0.0], tf.float32)\n"
      ],
      "metadata": {
        "id": "Og4f5NQHPv6J"
      },
      "execution_count": 4,
      "outputs": []
    },
    {
      "cell_type": "code",
      "source": [
        "# higher rank = n-dimensional arrays\n",
        "mtx = tf.Variable([[1,2,3],[3,4,5],[2,3,4],[4,2,5]],tf.int32)"
      ],
      "metadata": {
        "id": "bBVbOCJBQNcd"
      },
      "execution_count": 14,
      "outputs": []
    },
    {
      "cell_type": "code",
      "source": [
        "tf.rank(mtx)"
      ],
      "metadata": {
        "colab": {
          "base_uri": "https://localhost:8080/"
        },
        "id": "7VHVhKEcQi-1",
        "outputId": "9ddfb36c-0262-4220-ab1c-e8fe0e3718ed"
      },
      "execution_count": 15,
      "outputs": [
        {
          "output_type": "execute_result",
          "data": {
            "text/plain": [
              "<tf.Tensor: shape=(), dtype=int32, numpy=2>"
            ]
          },
          "metadata": {},
          "execution_count": 15
        }
      ]
    },
    {
      "cell_type": "code",
      "source": [
        "tf.shape(mtx)"
      ],
      "metadata": {
        "colab": {
          "base_uri": "https://localhost:8080/"
        },
        "id": "1XCQjXu6QlXn",
        "outputId": "ff5d1cd3-b83d-4103-c185-5a908937c86d"
      },
      "execution_count": 16,
      "outputs": [
        {
          "output_type": "execute_result",
          "data": {
            "text/plain": [
              "<tf.Tensor: shape=(2,), dtype=int32, numpy=array([4, 3], dtype=int32)>"
            ]
          },
          "metadata": {},
          "execution_count": 16
        }
      ]
    },
    {
      "cell_type": "code",
      "source": [
        "tf.reshape(mtx, [3,4]),"
      ],
      "metadata": {
        "colab": {
          "base_uri": "https://localhost:8080/"
        },
        "id": "qGbFpXxiQoZe",
        "outputId": "716e68b2-7fab-4abc-93c0-7b33e36e5e13"
      },
      "execution_count": 17,
      "outputs": [
        {
          "output_type": "execute_result",
          "data": {
            "text/plain": [
              "(<tf.Tensor: shape=(3, 4), dtype=int32, numpy=\n",
              " array([[1, 2, 3, 3],\n",
              "        [4, 5, 2, 3],\n",
              "        [4, 4, 2, 5]], dtype=int32)>,)"
            ]
          },
          "metadata": {},
          "execution_count": 17
        }
      ]
    },
    {
      "cell_type": "markdown",
      "source": [
        "WE can use slicing and dicing rules from numpy"
      ],
      "metadata": {
        "id": "fXruYq-5RDrj"
      }
    },
    {
      "cell_type": "code",
      "source": [
        "npMtx = np.array([[1,2,3],[3,4,5],[2,3,4],[4,2,5]])\n",
        "npMtx[1][1]"
      ],
      "metadata": {
        "colab": {
          "base_uri": "https://localhost:8080/"
        },
        "id": "DRz4AYtqQyeE",
        "outputId": "b105c431-bd71-48c9-8acb-44dcb2ba7f73"
      },
      "execution_count": 20,
      "outputs": [
        {
          "output_type": "execute_result",
          "data": {
            "text/plain": [
              "4"
            ]
          },
          "metadata": {},
          "execution_count": 20
        }
      ]
    },
    {
      "cell_type": "markdown",
      "source": [
        "## sessions"
      ],
      "metadata": {
        "id": "n2hEefU0R-6O"
      }
    },
    {
      "cell_type": "code",
      "source": [
        "tf.compat.v1.disable_eager_execution() # need to disable eager in TF2.x\n",
        "x = tf.constant([1,2,3])\n",
        "y = tf.constant(3)\n",
        "c =x*y\n",
        "\n",
        "with tf.compat.v1.Session() as s:\n",
        "  s.run(c)"
      ],
      "metadata": {
        "id": "EnxVoas1RQpK"
      },
      "execution_count": 25,
      "outputs": []
    },
    {
      "cell_type": "code",
      "source": [
        "sess = tf.compat.v1.InteractiveSession()\n",
        "c.eval()\n",
        "sess.close()"
      ],
      "metadata": {
        "colab": {
          "base_uri": "https://localhost:8080/"
        },
        "id": "Bu2lts8raP1r",
        "outputId": "2ed455cb-5ced-4e26-ed7e-68b69ad86238"
      },
      "execution_count": 28,
      "outputs": [
        {
          "output_type": "stream",
          "name": "stderr",
          "text": [
            "/usr/local/lib/python3.7/dist-packages/tensorflow/python/client/session.py:1768: UserWarning: An interactive session is already active. This can cause out-of-memory errors in some cases. You must explicitly call `InteractiveSession.close()` to release resources held by the other session(s).\n",
            "  warnings.warn('An interactive session is already active. This can '\n"
          ]
        }
      ]
    },
    {
      "cell_type": "code",
      "source": [
        ""
      ],
      "metadata": {
        "id": "A8tdezE0bUWP"
      },
      "execution_count": null,
      "outputs": []
    }
  ]
}